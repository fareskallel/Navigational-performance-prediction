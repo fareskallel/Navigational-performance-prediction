{
 "cells": [
  {
   "cell_type": "code",
   "execution_count": 1,
   "metadata": {},
   "outputs": [],
   "source": [
    "import numpy as np\n",
    "import torch\n",
    "import torch.nn as nn\n",
    "import torch.nn.functional as F\n",
    "import torch.optim as optim\n",
    "import matplotlib.pyplot as plt\n",
    "from torch.utils.data.sampler import SubsetRandomSampler\n",
    "from torch.utils.data import DataLoader\n",
    "from torchvision import datasets, transforms\n",
    "import matplotlib.pyplot as plt\n",
    "%matplotlib inline\n",
    "import torch.nn as nn\n",
    "import torch.nn.functional as F\n",
    "\n",
    "from PIL import Image\n",
    "import os"
   ]
  },
  {
   "cell_type": "code",
   "execution_count": 76,
   "metadata": {},
   "outputs": [
    {
     "name": "stdout",
     "output_type": "stream",
     "text": [
      "2260 maps were loaded\n"
     ]
    }
   ],
   "source": [
    "path = \"/Users/fareskallel/Desktop/Project_OD/maps\"\n",
    "maps = [m for m in os.listdir(path)]\n",
    "pixel_arrays = []\n",
    "for i,m in enumerate(maps):\n",
    "    try:\n",
    "        path_map = os.path.join(path,f\"map{i+1}/map{i+1}.png\")\n",
    "        im = Image.open(path_map)\n",
    "        width, height = im.size\n",
    "        pixel_values = list(im.getdata())\n",
    "        pixel_values = np.array(pixel_values)\n",
    "        pixel_values = pixel_values.reshape((width, height, 3))\n",
    "        pixel_arrays.append(pixel_values)\n",
    "    except: break\n",
    "    \n",
    "print(f\"{len(pixel_arrays)} maps were loaded\")"
   ]
  },
  {
   "cell_type": "code",
   "execution_count": 82,
   "metadata": {},
   "outputs": [],
   "source": [
    "pixels = [np.float32(p/255) for p in pixel_arrays]\n",
    "train_data = pixels[int(len(pixels)*0.2):]\n",
    "test_data = pixels[:int(len(pixels)*0.2)] \n",
    "train_loader = torch.utils.data.DataLoader(train_data, batch_size=32, num_workers=0,drop_last=True)\n",
    "test_loader = torch.utils.data.DataLoader(test_data, batch_size=32, num_workers=0,drop_last=True)\n"
   ]
  },
  {
   "cell_type": "code",
   "execution_count": 77,
   "metadata": {},
   "outputs": [],
   "source": [
    "#Define the Convolutional Autoencoder\n",
    "import torchvision\n",
    "class ConvAutoencoder(nn.Module):\n",
    "    def __init__(self):\n",
    "        super(ConvAutoencoder, self).__init__()\n",
    "       \n",
    "        #Encoder\n",
    "        self.conv1 = nn.Conv2d(3, 16, 3, padding=1)  \n",
    "        self.conv2 = nn.Conv2d(16, 4, 3, padding=1)\n",
    "        self.pool = nn.MaxPool2d(2, 2)\n",
    "       \n",
    "        #Decoder\n",
    "        self.t_conv1 = nn.ConvTranspose2d(4, 16, 2, stride=2)\n",
    "        self.t_conv2 = nn.ConvTranspose2d(16, 3, 2, stride=2,output_padding = 1)\n",
    "\n",
    "\n",
    "    def forward(self, x):\n",
    "        x = F.relu(self.conv1(x))\n",
    "        x = self.pool(x)\n",
    "        x = F.relu(self.conv2(x))\n",
    "        x = self.pool(x)\n",
    "        x = F.relu(self.t_conv1(x))\n",
    "        x = torch.sigmoid(self.t_conv2(x))\n",
    "        \n",
    "        return x"
   ]
  },
  {
   "cell_type": "code",
   "execution_count": 78,
   "metadata": {},
   "outputs": [
    {
     "name": "stdout",
     "output_type": "stream",
     "text": [
      "ConvAutoencoder(\n",
      "  (conv1): Conv2d(3, 16, kernel_size=(3, 3), stride=(1, 1), padding=(1, 1))\n",
      "  (conv2): Conv2d(16, 4, kernel_size=(3, 3), stride=(1, 1), padding=(1, 1))\n",
      "  (pool): MaxPool2d(kernel_size=2, stride=2, padding=0, dilation=1, ceil_mode=False)\n",
      "  (t_conv1): ConvTranspose2d(4, 16, kernel_size=(2, 2), stride=(2, 2))\n",
      "  (t_conv2): ConvTranspose2d(16, 3, kernel_size=(2, 2), stride=(2, 2), output_padding=(1, 1))\n",
      ")\n"
     ]
    }
   ],
   "source": [
    "#Instantiate the model\n",
    "model = ConvAutoencoder()\n",
    "print(model)"
   ]
  },
  {
   "cell_type": "code",
   "execution_count": 79,
   "metadata": {},
   "outputs": [
    {
     "name": "stdout",
     "output_type": "stream",
     "text": [
      "cpu\n"
     ]
    },
    {
     "data": {
      "text/plain": [
       "ConvAutoencoder(\n",
       "  (conv1): Conv2d(3, 16, kernel_size=(3, 3), stride=(1, 1), padding=(1, 1))\n",
       "  (conv2): Conv2d(16, 4, kernel_size=(3, 3), stride=(1, 1), padding=(1, 1))\n",
       "  (pool): MaxPool2d(kernel_size=2, stride=2, padding=0, dilation=1, ceil_mode=False)\n",
       "  (t_conv1): ConvTranspose2d(4, 16, kernel_size=(2, 2), stride=(2, 2))\n",
       "  (t_conv2): ConvTranspose2d(16, 3, kernel_size=(2, 2), stride=(2, 2), output_padding=(1, 1))\n",
       ")"
      ]
     },
     "execution_count": 79,
     "metadata": {},
     "output_type": "execute_result"
    }
   ],
   "source": [
    "device = get_device()\n",
    "print(device)\n",
    "model.to(device)"
   ]
  },
  {
   "cell_type": "code",
   "execution_count": 84,
   "metadata": {
    "scrolled": true
   },
   "outputs": [
    {
     "name": "stdout",
     "output_type": "stream",
     "text": [
      "Epoch: 1 \tTraining Loss: 0.653256\n",
      "Epoch: 2 \tTraining Loss: 0.650545\n",
      "Epoch: 3 \tTraining Loss: 0.650242\n",
      "Epoch: 4 \tTraining Loss: 0.650097\n",
      "Epoch: 5 \tTraining Loss: 0.650031\n",
      "Epoch: 6 \tTraining Loss: 0.649995\n",
      "Epoch: 7 \tTraining Loss: 0.649971\n",
      "Epoch: 8 \tTraining Loss: 0.649955\n",
      "Epoch: 9 \tTraining Loss: 0.649944\n",
      "Epoch: 10 \tTraining Loss: 0.649935\n"
     ]
    }
   ],
   "source": [
    "#Epochs\n",
    "# only difference is CUDA! we run on cpu and he on gpu.\n",
    "\n",
    "#Loss function\n",
    "criterion = nn.BCELoss()\n",
    "\n",
    "#Optimizer\n",
    "optimizer = torch.optim.Adam(model.parameters(), lr=0.1)\n",
    "\n",
    "n_epochs = 10\n",
    "train_loss = []\n",
    "for epoch in range(1, n_epochs+1):\n",
    "    for data in train_loader:\n",
    "        batch_loss = []\n",
    "        images = data.view((32,3,101,101))\n",
    "#         print(images.shape)\n",
    "        images = images.to(device)\n",
    "        optimizer.zero_grad()\n",
    "        outputs = model(images)\n",
    "#         print(outputs.shape)\n",
    "        loss = criterion(outputs, images)\n",
    "        loss.backward()\n",
    "        optimizer.step()\n",
    "        batch_loss.append(loss.item())\n",
    "    epoch_loss = np.mean(batch_loss)\n",
    "#     epoch_loss += loss.item()*images.size(0)\n",
    "#         print(loss.item()*images.size(0))\n",
    "          \n",
    "#     train_loss = train_loss/len(loader)\n",
    "    print('Epoch: {} \\tTraining Loss: {:.6f}'.format(epoch, epoch_loss))"
   ]
  },
  {
   "cell_type": "code",
   "execution_count": 83,
   "metadata": {},
   "outputs": [],
   "source": [
    "dataiter = iter(loader)\n",
    "notro_images = dataiter.next()"
   ]
  },
  {
   "cell_type": "code",
   "execution_count": 88,
   "metadata": {},
   "outputs": [
    {
     "data": {
      "text/plain": [
       "torch.Size([32, 3, 101, 101])"
      ]
     },
     "execution_count": 88,
     "metadata": {},
     "output_type": "execute_result"
    }
   ],
   "source": [
    "notro_images = notro_images.view((32,3,101,101))\n",
    "images.shape"
   ]
  },
  {
   "cell_type": "code",
   "execution_count": 8,
   "metadata": {},
   "outputs": [],
   "source": [
    "def get_device():\n",
    "    if torch.cuda.is_available():\n",
    "        device = 'cuda:0'\n",
    "    else:\n",
    "        device = 'cpu'\n",
    "    return device"
   ]
  },
  {
   "cell_type": "code",
   "execution_count": 31,
   "metadata": {},
   "outputs": [],
   "source": [
    "def imshow(img):\n",
    "    img = img / 2 + 0.5  \n",
    "    plt.imshow(np.transpose(img, (1, 2, 0))) "
   ]
  },
  {
   "cell_type": "code",
   "execution_count": 92,
   "metadata": {},
   "outputs": [
    {
     "name": "stdout",
     "output_type": "stream",
     "text": [
      "torch.Size([32, 101, 101, 3])\n"
     ]
    }
   ],
   "source": [
    "#Batch of test images\n",
    "dataiter = iter(test_loader)\n",
    "images = dataiter.next()\n",
    "print(images.shape)\n",
    "#Sample outputs\n",
    "output = model(images.view((32,3,101,101)))\n",
    "# images = images.numpy()\n",
    "\n",
    "output = output.view(32, 3, 101, 101)\n",
    "output = output.detach().numpy()\n",
    "\n",
    "reconst_input = Image.fromarray(np.array((images[31].reshape((101,101,3)))*255).astype('uint8'))\n",
    "reconst_output = Image.fromarray(np.array((output[31].reshape((101,101,3)))*255).astype('uint8'))\n",
    "\n",
    "reconst_input.show()\n",
    "reconst_output.show()\n",
    "\n",
    "# data = np.asarray(images[14])\n",
    "# data = np.reshape(data, (101, 101, 3))\n",
    "# img1 = Image.fromarray(data, 'RGB')\n",
    "# data = np.asarray(output[14])\n",
    "# data = np.reshape(data, (101, 101, 3))\n",
    "# img = Image.fromarray(data, 'RGB')\n",
    "\n",
    "# #Original Images\n",
    "# print(\"Original Images\")\n",
    "# fig, axes = plt.subplots(nrows=1, ncols=5, sharex=True, sharey=True, figsize=(12,4))\n",
    "# for idx in np.arange(5):\n",
    "#     ax = fig.add_subplot(1, 5, idx+1, xticks=[], yticks=[])\n",
    "#     imshow(images[idx])\n",
    "#     ax.set_title(classes[labels[idx]])\n",
    "# plt.show()\n",
    "\n",
    "# #Reconstructed Images\n",
    "# print('Reconstructed Images')\n",
    "# fig, axes = plt.subplots(nrows=1, ncols=5, sharex=True, sharey=True, figsize=(12,4))\n",
    "# for idx in np.arange(5):\n",
    "#     ax = fig.add_subplot(1, 5, idx+1, xticks=[], yticks=[])\n",
    "#     imshow(output[idx])\n",
    "#     ax.set_title(classes[labels[idx]])\n",
    "# plt.show() "
   ]
  },
  {
   "cell_type": "code",
   "execution_count": null,
   "metadata": {},
   "outputs": [],
   "source": [
    "im = Image.fromarray(my_array.reshape((50,50)).astype('uint8')*255)"
   ]
  },
  {
   "cell_type": "code",
   "execution_count": 75,
   "metadata": {},
   "outputs": [],
   "source": [
    "path_map = \"/Users/fareskallel/Desktop/Project_OD/maps/map1/map1.png\"\n",
    "im = Image.open(path_map)\n",
    "im.show()\n",
    "width, height = im.size\n",
    "pixel_values = list(im.getdata())\n",
    "pixel_values = np.array(pixel_values)\n",
    "pixel_values = pixel_values.reshape((width, height, 3))\n",
    "\n",
    "reconstruction = Image.fromarray(pixel_values.reshape((101,101,3)).astype('uint8'))\n",
    "reconstruction.show()"
   ]
  }
 ],
 "metadata": {
  "kernelspec": {
   "display_name": "Python 3",
   "language": "python",
   "name": "python3"
  },
  "language_info": {
   "codemirror_mode": {
    "name": "ipython",
    "version": 3
   },
   "file_extension": ".py",
   "mimetype": "text/x-python",
   "name": "python",
   "nbconvert_exporter": "python",
   "pygments_lexer": "ipython3",
   "version": "3.8.5"
  },
  "latex_envs": {
   "LaTeX_envs_menu_present": true,
   "autoclose": false,
   "autocomplete": true,
   "bibliofile": "biblio.bib",
   "cite_by": "apalike",
   "current_citInitial": 1,
   "eqLabelWithNumbers": true,
   "eqNumInitial": 1,
   "hotkeys": {
    "equation": "Ctrl-E",
    "itemize": "Ctrl-I"
   },
   "labels_anchors": false,
   "latex_user_defs": false,
   "report_style_numbering": false,
   "user_envs_cfg": false
  },
  "nbTranslate": {
   "displayLangs": [
    "*"
   ],
   "hotkey": "alt-t",
   "langInMainMenu": true,
   "sourceLang": "en",
   "targetLang": "fr",
   "useGoogleTranslate": true
  },
  "toc": {
   "base_numbering": 1,
   "nav_menu": {},
   "number_sections": true,
   "sideBar": true,
   "skip_h1_title": false,
   "title_cell": "Table of Contents",
   "title_sidebar": "Contents",
   "toc_cell": false,
   "toc_position": {},
   "toc_section_display": true,
   "toc_window_display": false
  },
  "varInspector": {
   "cols": {
    "lenName": 16,
    "lenType": 16,
    "lenVar": 40
   },
   "kernels_config": {
    "python": {
     "delete_cmd_postfix": "",
     "delete_cmd_prefix": "del ",
     "library": "var_list.py",
     "varRefreshCmd": "print(var_dic_list())"
    },
    "r": {
     "delete_cmd_postfix": ") ",
     "delete_cmd_prefix": "rm(",
     "library": "var_list.r",
     "varRefreshCmd": "cat(var_dic_list()) "
    }
   },
   "types_to_exclude": [
    "module",
    "function",
    "builtin_function_or_method",
    "instance",
    "_Feature"
   ],
   "window_display": false
  }
 },
 "nbformat": 4,
 "nbformat_minor": 4
}
